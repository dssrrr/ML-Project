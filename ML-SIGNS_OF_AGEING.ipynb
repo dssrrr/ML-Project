{
 "cells": [
  {
   "cell_type": "code",
   "execution_count": 1,
   "metadata": {},
   "outputs": [],
   "source": [
    "from imutils import face_utils"
   ]
  },
  {
   "cell_type": "code",
   "execution_count": 2,
   "metadata": {},
   "outputs": [],
   "source": [
    "import numpy as np"
   ]
  },
  {
   "cell_type": "code",
   "execution_count": 3,
   "metadata": {},
   "outputs": [],
   "source": [
    "import argparse"
   ]
  },
  {
   "cell_type": "code",
   "execution_count": 4,
   "metadata": {},
   "outputs": [],
   "source": [
    "import imutils"
   ]
  },
  {
   "cell_type": "code",
   "execution_count": 5,
   "metadata": {},
   "outputs": [
    {
     "ename": "ModuleNotFoundError",
     "evalue": "No module named 'dlib'",
     "output_type": "error",
     "traceback": [
      "\u001b[1;31m---------------------------------------------------------------------------\u001b[0m",
      "\u001b[1;31mModuleNotFoundError\u001b[0m                       Traceback (most recent call last)",
      "\u001b[1;32m~\\AppData\\Local\\Temp/ipykernel_15276/2697587116.py\u001b[0m in \u001b[0;36m<module>\u001b[1;34m\u001b[0m\n\u001b[1;32m----> 1\u001b[1;33m \u001b[1;32mimport\u001b[0m \u001b[0mdlib\u001b[0m\u001b[1;33m\u001b[0m\u001b[1;33m\u001b[0m\u001b[0m\n\u001b[0m",
      "\u001b[1;31mModuleNotFoundError\u001b[0m: No module named 'dlib'"
     ]
    }
   ],
   "source": [
    "import dlib "
   ]
  },
  {
   "cell_type": "code",
   "execution_count": null,
   "metadata": {},
   "outputs": [],
   "source": [
    "import cv2"
   ]
  },
  {
   "cell_type": "code",
   "execution_count": null,
   "metadata": {},
   "outputs": [],
   "source": [
    "face_cascade= cv2.CascadeClassifier(\"haarcascade_frontalface_default.xml\")"
   ]
  },
  {
   "cell_type": "code",
   "execution_count": null,
   "metadata": {},
   "outputs": [],
   "source": [
    "img=cv2.imread(\"puffy.jpg\")#puffy.jpg is an image "
   ]
  },
  {
   "cell_type": "code",
   "execution_count": null,
   "metadata": {},
   "outputs": [],
   "source": [
    "img=cv2.resize(img,(0,0),None,0.5,0.5)"
   ]
  },
  {
   "cell_type": "code",
   "execution_count": null,
   "metadata": {},
   "outputs": [],
   "source": [
    "imgOriginal = img.copy()"
   ]
  },
  {
   "cell_type": "code",
   "execution_count": null,
   "metadata": {},
   "outputs": [],
   "source": [
    "detector =dlib.get_frontal_face_detector()"
   ]
  },
  {
   "cell_type": "code",
   "execution_count": null,
   "metadata": {},
   "outputs": [],
   "source": [
    "predictor=dlib.shape_predictor(\"shape_predictor_68_face_landmarks.dat\")"
   ]
  },
  {
   "cell_type": "code",
   "execution_count": null,
   "metadata": {},
   "outputs": [],
   "source": [
    "def createBox(img,points,scale=5):\n",
    "    bbox=cv2.boundingRect(points)\n",
    "    x,y,w,h=bbox\n",
    "    imgCrop=img[y:y+h,x:x+w]\n",
    "    imgCrop=cv2.resize(imgCrop,(0,0),None,scale,scale)\n",
    "    return imgCrop"
   ]
  },
  {
   "cell_type": "code",
   "execution_count": null,
   "metadata": {},
   "outputs": [],
   "source": [
    "imgGray = cv2.cvtColor(img,cv2.COLOR_BGR2GRAY)"
   ]
  },
  {
   "cell_type": "code",
   "execution_count": null,
   "metadata": {},
   "outputs": [],
   "source": [
    "faces = detector(imgGray)"
   ]
  },
  {
   "cell_type": "code",
   "execution_count": null,
   "metadata": {},
   "outputs": [],
   "source": [
    "myPoints = []"
   ]
  },
  {
   "cell_type": "code",
   "execution_count": null,
   "metadata": {},
   "outputs": [],
   "source": [
    "for face in faces:\n",
    "    x1,y1 = face.left(),face.top()\n",
    "    x2,y2 = face.right(),face.bottom()\n",
    "    #imgOriginal = cv2.rectangle(img,(x1,y1),(x2,y2),(0,255,0),2)\n",
    "    landmarks = predictor(imgGray,face)\n",
    "    for n in range(68):\n",
    "        x = landmarks.part(n).x\n",
    "        y = landmarks.part(n).y\n",
    "        myPoints.append([x,y])\n",
    "        #cv2.circle(imgOriginal,(x,y),2,(50,50,255),cv2.FILLED)\n",
    "        #cv2.putText(imgOriginal,str(n),(x,y-10),cv2.FONT_HERSHEY_COMPLEX_SMALL,0.3,(0,0,255),1)"
   ]
  },
  {
   "cell_type": "code",
   "execution_count": null,
   "metadata": {},
   "outputs": [],
   "source": [
    "myPoints= np.array(myPoints)"
   ]
  },
  {
   "cell_type": "code",
   "execution_count": null,
   "metadata": {},
   "outputs": [],
   "source": [
    "imgNose = createBox(img,myPoints[27:36])\n",
    "imgLeftEye = createBox(img,myPoints[36:42])\n",
    "imgLeftEyebrow = createBox(img,myPoints[17:22])\n",
    "imgRightEye = createBox(img,myPoints[42:48])\n",
    "imgRightEyebrow = createBox(img,myPoints[22:27])\n",
    "imgLips = createBox(img,myPoints[48:68])"
   ]
  },
  {
   "cell_type": "code",
   "execution_count": null,
   "metadata": {},
   "outputs": [],
   "source": [
    "#cv2.imshow(\"Original\",imgOriginal)"
   ]
  },
  {
   "cell_type": "code",
   "execution_count": null,
   "metadata": {},
   "outputs": [],
   "source": [
    "T = cv2.Canny(imgOriginal,130,130)\n",
    "#cv2.imshow(\"Map\",T)\n",
    "a1,b1,c1,d1 = cv2.boundingRect(myPoints[27:36])\n",
    "test1 = cv2.rectangle(T,(a1,b1),(a1+c1,b1+d1),(0,0,0),-1)\n",
    "a2,b2,c2,d2 = cv2.boundingRect(myPoints[36:42])\n",
    "test2 = cv2.rectangle(test1,(a2,b2),(a2+c2,b2+d2),(0,0,0),-1)\n",
    "a3,b3,c3,d3 = cv2.boundingRect(myPoints[17:22])\n",
    "test3 = cv2.rectangle(test2,(a3,b3),(a3+c3,b3+d3),(0,0,0),-1)\n",
    "a4,b4,c4,d4 = cv2.boundingRect(myPoints[42:48])\n",
    "test4 = cv2.rectangle(test3,(a4,b4),(a4+c4,b4+d4),(0,0,0),-1)\n",
    "a5,b5,c5,d5 = cv2.boundingRect(myPoints[22:27])\n",
    "test5 = cv2.rectangle(test4,(a5,b5),(a5+c5,b5+d5),(0,0,0),-1)\n",
    "a6,b6,c6,d6 = cv2.boundingRect(myPoints[48:68])\n",
    "testf = cv2.rectangle(test5,(a6,b6),(a6+c6,b6+d6),(0,0,0),-1)\n",
    "#cv2.imshow(\"Test\",testf)\n",
    "fc = face_cascade.detectMultiScale(imgGray,1.1,4)\n",
    "for (xa,ya,wa,ha) in fc:\n",
    "    ti = testf[ya:ya+ha,xa:xa+wa]\n",
    "    #cv2.imshow(\"Cropped\",ti)\n",
    "number_of_edges=np.count_nonzero(ti)"
   ]
  },
  {
   "cell_type": "code",
   "execution_count": null,
   "metadata": {},
   "outputs": [],
   "source": [
    "if number_of_edges>2010 :\n",
    "    print(\"Wrinkles detected\")\n",
    "    print(\"Wrinkle points :\",number_of_edges - 2000)\n",
    "    cv2.imshow(\"Wrinkle Map\",ti)\n",
    "else:\n",
    "    print(\"Wrinkles not found\")"
   ]
  },
  {
   "cell_type": "code",
   "execution_count": null,
   "metadata": {},
   "outputs": [],
   "source": [
    "mi = imgOriginal[b2:b2+d2+d2+d2,a2:a2+c2]\n",
    "g=cv2.Canny(mi,130,130)\n",
    "#cv2.imshow(\"G\",g)\n",
    "ni = imgOriginal[b4:b4+d2+d2+d2,a2:a2+c2]\n",
    "h=cv2.Canny(ni,130,130)\n",
    "#cv2.imshow(\"H\",h)\n",
    "noe1 = np.count_nonzero(g)\n",
    "noe2 = np.count_nonzero(h)"
   ]
  },
  {
   "cell_type": "code",
   "execution_count": null,
   "metadata": {},
   "outputs": [],
   "source": [
    "show1 = cv2.rectangle(imgOriginal,(a2,b2),(a2+c2,b2+d2+d2+d2),(0,255,0),2)\n",
    "show2 = cv2.rectangle(show1,(a4,b4),(a4+c4,b2+d2+d2+d2),(0,255,0),2)"
   ]
  },
  {
   "cell_type": "code",
   "execution_count": null,
   "metadata": {},
   "outputs": [],
   "source": [
    "if noe1 >= 100 and noe2 >=100 :\n",
    "    print(\"Puffy eyes detected\")\n",
    "    cv2.imshow(\"Result\",show2)\n",
    "else:\n",
    "    print(\"Puffy eyes not detected\")"
   ]
  },
  {
   "cell_type": "code",
   "execution_count": null,
   "metadata": {},
   "outputs": [],
   "source": [
    "cv2.waitKey(0)\n",
    "cv2.destroyAllWindows()"
   ]
  },
  {
   "cell_type": "code",
   "execution_count": null,
   "metadata": {},
   "outputs": [],
   "source": [
    "import cv2\n",
    "img = cv2.imread(\"darkspots.jpg\", 0)\n",
    "\n",
    "# threshold\n",
    "th, threshed = cv2.threshold(img, 100, 255, \n",
    "          cv2.THRESH_BINARY_INV|cv2.THRESH_OTSU)\n",
    "  \n",
    "# findcontours\n",
    "cnts = cv2.findContours(threshed, cv2.RETR_LIST, \n",
    "                    cv2.CHAIN_APPROX_SIMPLE)[-2]\n",
    "  \n",
    "# filter by area\n",
    "s1 = 10\n",
    "s2 = 20\n",
    "xcnts = []\n",
    "  \n",
    "for cnt in cnts:\n",
    "    if s1<cv2.contourArea(cnt) <s2:\n",
    "        xcnts.append(cnt)\n",
    "  \n",
    "# printing output\n",
    "print(\"\\nDots number: {}\".format(len(xcnts)))"
   ]
  },
  {
   "cell_type": "code",
   "execution_count": null,
   "metadata": {},
   "outputs": [],
   "source": [
    "img=cv2.Canny(img,100,100)\n",
    "cv2.imshow(\"Map\",img)  "
   ]
  },
  {
   "cell_type": "code",
   "execution_count": null,
   "metadata": {},
   "outputs": [],
   "source": [
    "cv2.waitKey(0)\n",
    "cv2.destroyAllWindows()"
   ]
  },
  {
   "cell_type": "code",
   "execution_count": null,
   "metadata": {},
   "outputs": [],
   "source": []
  }
 ],
 "metadata": {
  "kernelspec": {
   "display_name": "Python 3 (ipykernel)",
   "language": "python",
   "name": "python3"
  },
  "language_info": {
   "codemirror_mode": {
    "name": "ipython",
    "version": 3
   },
   "file_extension": ".py",
   "mimetype": "text/x-python",
   "name": "python",
   "nbconvert_exporter": "python",
   "pygments_lexer": "ipython3",
   "version": "3.9.7"
  }
 },
 "nbformat": 4,
 "nbformat_minor": 4
}
